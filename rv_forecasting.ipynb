{
 "cells": [
  {
   "cell_type": "markdown",
   "id": "3250cf90",
   "metadata": {},
   "source": [
    "# **4. Forecast Realized Volatility**"
   ]
  },
  {
   "cell_type": "code",
   "execution_count": null,
   "id": "fe2cb3c3",
   "metadata": {},
   "outputs": [],
   "source": [
    "from abc import ABC, abstractmethod\n",
    "\n",
    "class BaseRVForecaster(ABC):\n",
    "    def __init__(self, H=21, name=None):\n",
    "        self.H = H\n",
    "        self.name = name or self.__class__.__name__\n",
    "\n",
    "    @abstractmethod\n",
    "    def fit(self, returns: pd.Series, rv: pd.Series, **kwargs):\n",
    "        \"\"\"Estimate parameters using a TRAIN window (no look-ahead).\"\"\"\n",
    "\n",
    "    def warm_state(self, returns: pd.Series, rv: pd.Series):\n",
    "        \"\"\"Update internal state with observed data (no parameter re-fit).\"\"\"\n",
    "        return self\n",
    "\n",
    "    @abstractmethod\n",
    "    def forecast(self, as_of_index: pd.DatetimeIndex) -> pd.Series:\n",
    "        \"\"\"Return ex-ante H-horizon RV forecast indexed by as_of_index.\"\"\"\n"
   ]
  },
  {
   "cell_type": "markdown",
   "id": "24a9defd",
   "metadata": {},
   "source": [
    "## **4.1 EWMA (Risk Metrics)**"
   ]
  },
  {
   "cell_type": "markdown",
   "id": "266b7d25",
   "metadata": {},
   "source": [
    "## **4.1 HAR-RV**"
   ]
  },
  {
   "cell_type": "markdown",
   "id": "557e879d",
   "metadata": {},
   "source": [
    "## **4.1 GARCH**"
   ]
  },
  {
   "cell_type": "markdown",
   "id": "8b2282e7",
   "metadata": {},
   "source": [
    "## **4.1 Machine Learning**"
   ]
  },
  {
   "cell_type": "code",
   "execution_count": null,
   "id": "0768e465",
   "metadata": {},
   "outputs": [],
   "source": [
    "import numpy as np\n",
    "import pandas as pd\n",
    "import statsmodels.api as sm\n",
    "from statsmodels.regression.linear_model import OLS\n",
    "from arch import arch_model\n",
    "from sklearn.ensemble import GradientBoostingRegressor\n",
    "\n",
    "class RVForecaster:\n",
    "    def __init__(self, returns, rv):\n",
    "        \"\"\"\n",
    "        Parameters\n",
    "        ----------\n",
    "        returns : pd.Series\n",
    "            Daily log returns of the underlying.\n",
    "        rv : pd.Series\n",
    "            Realized volatility series (e.g. 21D rolling, annualized).\n",
    "        \"\"\"\n",
    "        self.returns = returns.dropna()\n",
    "        self.rv = rv.dropna()\n",
    "    \n",
    "    # === EWMA ===\n",
    "    def ewma(self, lam=0.94):\n",
    "        \"\"\"RiskMetrics EWMA volatility forecast.\"\"\"\n",
    "        sigma2 = 0\n",
    "        forecasts = []\n",
    "        for r in self.returns:\n",
    "            sigma2 = lam * sigma2 + (1 - lam) * r**2\n",
    "            forecasts.append(np.sqrt(sigma2 * 252))\n",
    "        return pd.Series(forecasts, index=self.returns.index, name=\"EWMA\")\n",
    "    \n",
    "    # === HAR-RV ===\n",
    "    def har(self, lags=(1,5,22)):\n",
    "        \"\"\"HAR-RV model using daily/weekly/monthly realized vol.\"\"\"\n",
    "        df = pd.DataFrame({\"RV\": self.rv})\n",
    "        for lag in lags:\n",
    "            df[f\"lag{lag}\"] = self.rv.shift(lag).rolling(lag).mean()\n",
    "        df = df.dropna()\n",
    "        X = sm.add_constant(df[[f\"lag{l}\" for l in lags]])\n",
    "        model = OLS(df[\"RV\"], X).fit()\n",
    "        forecast = model.predict(X)\n",
    "        return forecast.rename(\"HAR-RV\")\n",
    "    \n",
    "    # === GARCH(1,1) ===\n",
    "    def garch(self):\n",
    "        \"\"\"GARCH(1,1) forecast.\"\"\"\n",
    "        model = arch_model(self.returns*100, vol=\"GARCH\", p=1, q=1, dist=\"normal\")\n",
    "        res = model.fit(disp=\"off\")\n",
    "        forecast = res.forecast(horizon=1).variance.iloc[:,0]**0.5 / 100\n",
    "        forecast = forecast.rename(\"GARCH(1,1)\")\n",
    "        return forecast\n",
    "    \n",
    "    # === ML (GBM by default) ===\n",
    "    def ml(self, features, model=None):\n",
    "        \"\"\"Forecast RV using ML (GradientBoosting by default).\"\"\"\n",
    "        if model is None:\n",
    "            model = GradientBoostingRegressor(n_estimators=200, max_depth=3)\n",
    "        X = features.shift(1).dropna()\n",
    "        y = self.rv.loc[X.index]\n",
    "        model.fit(X, y)\n",
    "        forecast = pd.Series(model.predict(X), index=X.index, name=\"ML-RV\")\n",
    "        return forecast"
   ]
  }
 ],
 "metadata": {
  "language_info": {
   "name": "python"
  }
 },
 "nbformat": 4,
 "nbformat_minor": 5
}
